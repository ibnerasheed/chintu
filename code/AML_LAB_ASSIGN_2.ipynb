{
 "cells": [
  {
   "cell_type": "code",
   "execution_count": null,
   "metadata": {
    "id": "hVCTEKUM4D3l"
   },
   "outputs": [],
   "source": [
    "import numpy as np"
   ]
  },
  {
   "cell_type": "markdown",
   "metadata": {
    "id": "9eabvJkHkzi7"
   },
   "source": [
    "# 1. find the shape and type of an array z = (a, a*2)\n",
    "\n",
    "\n"
   ]
  },
  {
   "cell_type": "code",
   "execution_count": null,
   "metadata": {
    "colab": {
     "base_uri": "https://localhost:8080/"
    },
    "id": "MIirBFP3kiXR",
    "outputId": "fd0d943f-d20a-427a-b5a6-2e605727f231"
   },
   "outputs": [
    {
     "data": {
      "text/plain": [
       "(array([ 4, -3, -2,  1,  3,  4]), array([ 8, -6, -4,  2,  6,  8]))"
      ]
     },
     "execution_count": 37,
     "metadata": {},
     "output_type": "execute_result"
    }
   ],
   "source": [
    "z = (a,a*2)\n",
    "z"
   ]
  },
  {
   "cell_type": "markdown",
   "metadata": {
    "id": "dV2E_zUCxPTn"
   },
   "source": [
    "# 2. An array a = (4, -3, -2, 1, 3, 4). \n",
    "1.   find sum of the elements in the array \n",
    "2.   find the small and big elements of the array\n",
    "3.   find the mean and standard deviation of the array elements\n",
    "4.   find the index of the biggest and smallest elements of the array\n",
    "\n"
   ]
  },
  {
   "cell_type": "code",
   "execution_count": null,
   "metadata": {
    "id": "A7FikYeRwW8R"
   },
   "outputs": [],
   "source": [
    "a = np.array([4, -3, -2, 1, 3, 4])"
   ]
  },
  {
   "cell_type": "code",
   "execution_count": null,
   "metadata": {
    "colab": {
     "base_uri": "https://localhost:8080/"
    },
    "id": "EYZIyCd7xgqF",
    "outputId": "f5666888-e024-43b9-ff53-ddb32b58a352"
   },
   "outputs": [
    {
     "data": {
      "text/plain": [
       "7"
      ]
     },
     "execution_count": 16,
     "metadata": {},
     "output_type": "execute_result"
    }
   ],
   "source": [
    "a.sum()  # it will find the sum"
   ]
  },
  {
   "cell_type": "code",
   "execution_count": null,
   "metadata": {
    "colab": {
     "base_uri": "https://localhost:8080/"
    },
    "id": "a4-pcm6ex9Kt",
    "outputId": "f9436ff5-c207-4fcb-ac98-56a40bdf11db"
   },
   "outputs": [
    {
     "data": {
      "text/plain": [
       "-3"
      ]
     },
     "execution_count": 17,
     "metadata": {},
     "output_type": "execute_result"
    }
   ],
   "source": [
    "a.min()  # it will find small element in array"
   ]
  },
  {
   "cell_type": "code",
   "execution_count": null,
   "metadata": {
    "colab": {
     "base_uri": "https://localhost:8080/"
    },
    "id": "4gwKWXMeyGTR",
    "outputId": "0805612b-7984-416a-b67f-feee57bfe90c"
   },
   "outputs": [
    {
     "data": {
      "text/plain": [
       "4"
      ]
     },
     "execution_count": 18,
     "metadata": {},
     "output_type": "execute_result"
    }
   ],
   "source": [
    "a.max()  #it will find large element in array"
   ]
  },
  {
   "cell_type": "code",
   "execution_count": null,
   "metadata": {
    "colab": {
     "base_uri": "https://localhost:8080/"
    },
    "id": "eDToN0QjyNXW",
    "outputId": "4dae1c38-b087-46e7-bcae-8e7539742c5d"
   },
   "outputs": [
    {
     "data": {
      "text/plain": [
       "1.1666666666666667"
      ]
     },
     "execution_count": 19,
     "metadata": {},
     "output_type": "execute_result"
    }
   ],
   "source": [
    "a.mean()  #it will find the mean"
   ]
  },
  {
   "cell_type": "code",
   "execution_count": null,
   "metadata": {
    "colab": {
     "base_uri": "https://localhost:8080/"
    },
    "id": "iou7d-nSzJIp",
    "outputId": "6da5f9d7-e91c-4f58-f6e1-bd321e07599b"
   },
   "outputs": [
    {
     "data": {
      "text/plain": [
       "2.793842435706702"
      ]
     },
     "execution_count": 20,
     "metadata": {},
     "output_type": "execute_result"
    }
   ],
   "source": [
    "a.std()  # it will find standard deviation"
   ]
  },
  {
   "cell_type": "code",
   "execution_count": null,
   "metadata": {
    "colab": {
     "base_uri": "https://localhost:8080/"
    },
    "id": "eKN6g_ZGzQXB",
    "outputId": "4641337e-cdc2-4010-8cfc-0401037b8287"
   },
   "outputs": [
    {
     "data": {
      "text/plain": [
       "1"
      ]
     },
     "execution_count": 21,
     "metadata": {},
     "output_type": "execute_result"
    }
   ],
   "source": [
    "a.argmin()  # it will find index of smallest element in array"
   ]
  },
  {
   "cell_type": "code",
   "execution_count": null,
   "metadata": {
    "colab": {
     "base_uri": "https://localhost:8080/"
    },
    "id": "flDNPNt0zoXA",
    "outputId": "d68daa01-31ba-44c4-9e48-d34030cd69b8"
   },
   "outputs": [
    {
     "data": {
      "text/plain": [
       "0"
      ]
     },
     "execution_count": 22,
     "metadata": {},
     "output_type": "execute_result"
    }
   ],
   "source": [
    "a.argmax()  # it will find index of largest element in array"
   ]
  },
  {
   "cell_type": "markdown",
   "metadata": {
    "id": "_qPOq6O0zzNh"
   },
   "source": [
    "#  3. find the dot product of (2j, 3j), (3j, 2j)"
   ]
  },
  {
   "cell_type": "code",
   "execution_count": null,
   "metadata": {
    "colab": {
     "base_uri": "https://localhost:8080/"
    },
    "id": "kkWxruuh0UkX",
    "outputId": "88c4bb3c-b1a1-4c3a-e685-752b15225e31"
   },
   "outputs": [
    {
     "data": {
      "text/plain": [
       "(-12+0j)"
      ]
     },
     "execution_count": 32,
     "metadata": {},
     "output_type": "execute_result"
    }
   ],
   "source": [
    "np.dot([2j,3j],[3j,2j])   # it will find dot product between a and b"
   ]
  },
  {
   "cell_type": "markdown",
   "metadata": {
    "id": "o_aNI7t70VLQ"
   },
   "source": [
    "#4. create an array which contain square of all integer numbers between 0 and 13.  \n",
    "\n"
   ]
  },
  {
   "cell_type": "code",
   "execution_count": null,
   "metadata": {
    "colab": {
     "base_uri": "https://localhost:8080/"
    },
    "id": "V0ztQI1M0cWh",
    "outputId": "06b1055d-5806-46a0-a70c-9a2d726edb17"
   },
   "outputs": [
    {
     "data": {
      "text/plain": [
       "array([  0,   1,   4,   9,  16,  25,  36,  49,  64,  81, 100, 121, 144])"
      ]
     },
     "execution_count": 23,
     "metadata": {},
     "output_type": "execute_result"
    }
   ],
   "source": [
    "s=np.arange(13)**2  # each element in the array will be squared\n",
    "s"
   ]
  },
  {
   "cell_type": "markdown",
   "metadata": {
    "id": "_QSVlUwT0kww"
   },
   "source": [
    "# 5. Use bracke notation to get value particular index\n",
    "*  s[4] \n",
    "* s[:5] \n",
    "* s[2:6] \n",
    "* s[-4]\n",
    "* s[-4:-1] \n",
    "* s[-4: ] \n",
    "* s[-5::-2] \n",
    "* s[-5::2] "
   ]
  },
  {
   "cell_type": "code",
   "execution_count": null,
   "metadata": {
    "colab": {
     "base_uri": "https://localhost:8080/"
    },
    "id": "TT9rgh3P0jfB",
    "outputId": "93855629-dda1-4aff-8fb2-ee018bc8f11d"
   },
   "outputs": [
    {
     "data": {
      "text/plain": [
       "16"
      ]
     },
     "execution_count": 24,
     "metadata": {},
     "output_type": "execute_result"
    }
   ],
   "source": [
    "s[4]   # get element from index 4"
   ]
  },
  {
   "cell_type": "code",
   "execution_count": null,
   "metadata": {
    "colab": {
     "base_uri": "https://localhost:8080/"
    },
    "id": "aKhCJfjb1BkS",
    "outputId": "e96f7062-afd7-4e6b-de60-e83cdb42b518"
   },
   "outputs": [
    {
     "data": {
      "text/plain": [
       "array([ 0,  1,  4,  9, 16])"
      ]
     },
     "execution_count": 25,
     "metadata": {},
     "output_type": "execute_result"
    }
   ],
   "source": [
    "s[:5]  # it get from start and end before 5"
   ]
  },
  {
   "cell_type": "code",
   "execution_count": null,
   "metadata": {
    "colab": {
     "base_uri": "https://localhost:8080/"
    },
    "id": "2lZiojuq1SBk",
    "outputId": "5018ad13-9ea0-45bd-ad9d-267de9fcb825"
   },
   "outputs": [
    {
     "data": {
      "text/plain": [
       "array([ 4,  9, 16, 25])"
      ]
     },
     "execution_count": 26,
     "metadata": {},
     "output_type": "execute_result"
    }
   ],
   "source": [
    "s[2:6]  # it will start from 2 before 6 "
   ]
  },
  {
   "cell_type": "code",
   "execution_count": null,
   "metadata": {
    "colab": {
     "base_uri": "https://localhost:8080/"
    },
    "id": "o8OfiE2c1ltw",
    "outputId": "26341e93-cff3-4feb-cb11-2c74035cdfad"
   },
   "outputs": [
    {
     "data": {
      "text/plain": [
       "81"
      ]
     },
     "execution_count": 27,
     "metadata": {},
     "output_type": "execute_result"
    }
   ],
   "source": [
    "s[-4]  # it is negative indexing "
   ]
  },
  {
   "cell_type": "code",
   "execution_count": null,
   "metadata": {
    "colab": {
     "base_uri": "https://localhost:8080/"
    },
    "id": "a0cMtcLc1qVQ",
    "outputId": "7b413165-9ab4-4b37-b8d3-6c339b659240"
   },
   "outputs": [
    {
     "data": {
      "text/plain": [
       "array([ 81, 100, 121])"
      ]
     },
     "execution_count": 28,
     "metadata": {},
     "output_type": "execute_result"
    }
   ],
   "source": [
    "s[-4:-1] # it will take negative index ; from -4 till -1"
   ]
  },
  {
   "cell_type": "code",
   "execution_count": null,
   "metadata": {
    "colab": {
     "base_uri": "https://localhost:8080/"
    },
    "id": "LrvuJhdI13nH",
    "outputId": "465edce6-6fcb-48fd-fbbd-b57f301dff72"
   },
   "outputs": [
    {
     "data": {
      "text/plain": [
       "array([ 81, 100, 121, 144])"
      ]
     },
     "execution_count": 29,
     "metadata": {},
     "output_type": "execute_result"
    }
   ],
   "source": [
    "s[-4: ]  # it will take -4 till last"
   ]
  },
  {
   "cell_type": "code",
   "execution_count": null,
   "metadata": {
    "colab": {
     "base_uri": "https://localhost:8080/"
    },
    "id": "3bMAiGPO2FhF",
    "outputId": "6ea644f6-b50f-452c-9a85-6b3c808f8aaa"
   },
   "outputs": [
    {
     "data": {
      "text/plain": [
       "array([64, 36, 16,  4,  0])"
      ]
     },
     "execution_count": 30,
     "metadata": {},
     "output_type": "execute_result"
    }
   ],
   "source": [
    "s[-5::-2] #from -5 loc to 0 loc with space of 2; -2:implies it moves in negative "
   ]
  },
  {
   "cell_type": "code",
   "execution_count": null,
   "metadata": {
    "colab": {
     "base_uri": "https://localhost:8080/"
    },
    "id": "zvKovIUr2dKQ",
    "outputId": "0d7b6aad-ea85-4650-fd78-1a612d930a33"
   },
   "outputs": [
    {
     "data": {
      "text/plain": [
       "array([ 64, 100, 144])"
      ]
     },
     "execution_count": 31,
     "metadata": {},
     "output_type": "execute_result"
    }
   ],
   "source": [
    "s[-5::2] #from -5 loc to last loc with space of 2; 2:implies it moves in positive "
   ]
  }
 ],
 "metadata": {
  "colab": {
   "name": "AML_LAB_ASSIGN_2.ipynb",
   "provenance": []
  },
  "kernelspec": {
   "display_name": "Python 3 (ipykernel)",
   "language": "python",
   "name": "python3"
  },
  "language_info": {
   "codemirror_mode": {
    "name": "ipython",
    "version": 3
   },
   "file_extension": ".py",
   "mimetype": "text/x-python",
   "name": "python",
   "nbconvert_exporter": "python",
   "pygments_lexer": "ipython3",
   "version": "3.10.0"
  }
 },
 "nbformat": 4,
 "nbformat_minor": 1
}
